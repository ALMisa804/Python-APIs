{
 "cells": [
  {
   "cell_type": "markdown",
   "metadata": {},
   "source": [
    "# WeatherPy\n",
    "----\n",
    "\n",
    "#### Note\n",
    "* Instructions have been included for each segment. You do not have to follow them exactly, but they are included to help you think through the steps."
   ]
  },
  {
   "cell_type": "code",
   "execution_count": 130,
   "metadata": {
    "scrolled": true
   },
   "outputs": [],
   "source": [
    "# Dependencies and Setup\n",
    "import matplotlib.pyplot as plt\n",
    "import pandas as pd\n",
    "import numpy as np\n",
    "import requests\n",
    "import time\n",
    "import json\n",
    "from scipy.stats import linregress\n",
    "from pprint import pprint \n",
    "from datetime import datetime\n",
    "\n",
    "\n",
    "# Import API key\n",
    "from api_keys import weather_api_key\n",
    "\n",
    "# Incorporated citipy to determine city based on latitude and longitude\n",
    "from citipy import citipy\n",
    "\n",
    "# Output File (CSV)\n",
    "output_data_file = \"output_data/cities.csv\"\n",
    "\n",
    "# Range of latitudes and longitudes\n",
    "lat_range = (-90, 90)\n",
    "lng_range = (-180, 180)"
   ]
  },
  {
   "cell_type": "markdown",
   "metadata": {},
   "source": [
    "## Generate Cities List"
   ]
  },
  {
   "cell_type": "code",
   "execution_count": 131,
   "metadata": {},
   "outputs": [
    {
     "name": "stdout",
     "output_type": "stream",
     "text": [
      "620\n"
     ]
    }
   ],
   "source": [
    "# List for holding lat_lngs and cities\n",
    "lat_lngs = []\n",
    "cities = []\n",
    "\n",
    "# Create a set of random lat and lng combinations\n",
    "lats = np.random.uniform(lat_range[0], lat_range[1], size=1500)\n",
    "lngs = np.random.uniform(lng_range[0], lng_range[1], size=1500)\n",
    "lat_lngs = zip(lats, lngs)\n",
    "\n",
    "# Identify nearest city for each lat, lng combination\n",
    "for lat_lng in lat_lngs:\n",
    "    city = citipy.nearest_city(lat_lng[0], lat_lng[1]).city_name\n",
    "    \n",
    "    # If the city is unique, then add it to a our cities list\n",
    "    if city not in cities:\n",
    "        cities.append(city)\n",
    "\n",
    "# Print the city count to confirm sufficient count\n",
    "lat_lngs_list = list(lat_lngs)\n",
    "# len(cities)\n",
    "print(len(cities))"
   ]
  },
  {
   "cell_type": "markdown",
   "metadata": {},
   "source": [
    "### Perform API Calls\n",
    "* Perform a weather check on each city using a series of successive API calls.\n",
    "* Include a print log of each city as it'sbeing processed (with the city number and city name).\n"
   ]
  },
  {
   "cell_type": "code",
   "execution_count": 132,
   "metadata": {
    "scrolled": true
   },
   "outputs": [
    {
     "name": "stdout",
     "output_type": "stream",
     "text": [
      "Beginning Data Retrieval \n",
      "-----------------------------\n",
      "Processing record 1|namibe\n",
      "Processing record 2|ishigaki\n",
      "Processing record 3|lorengau\n",
      "Processing record 4|rikitea\n",
      "Processing record 5|svetlyy yar\n",
      "Processing record 6|chuy\n",
      "Processing record 7|mataura\n",
      "Processing record 8|severo-kurilsk\n",
      "Processing record 9|salvador\n",
      "Processing record 10|hithadhoo\n",
      "Processing record 11|tiarei\n",
      "Processing record 12|kaseda\n",
      "City not found. skipping.\n",
      "Processing record 13|butaritari\n",
      "Processing record 14|saint-philippe\n",
      "Processing record 15|ahuas\n",
      "Processing record 16|huautla\n",
      "Processing record 17|myanaung\n",
      "Processing record 18|biskamzha\n",
      "Processing record 19|vila franca do campo\n",
      "Processing record 20|caravelas\n",
      "Processing record 21|busselton\n",
      "Processing record 22|manakara\n",
      "Processing record 23|tuktoyaktuk\n",
      "Processing record 24|graaff-reinet\n",
      "Processing record 25|atuona\n",
      "Processing record 26|punta arenas\n",
      "Processing record 27|saskylakh\n",
      "Processing record 28|bredasdorp\n",
      "Processing record 29|alpoyeca\n",
      "Processing record 30|port alfred\n",
      "Processing record 31|sakhnovshchyna\n",
      "Processing record 32|cape town\n",
      "Processing record 33|jamestown\n",
      "City not found. skipping.\n",
      "Processing record 34|clyde river\n",
      "Processing record 35|boende\n",
      "Processing record 36|kodiak\n",
      "Processing record 37|kapaa\n",
      "Processing record 38|lebu\n",
      "Processing record 39|georgetown\n",
      "Processing record 40|upernavik\n",
      "Processing record 41|mahebourg\n",
      "Processing record 42|albany\n",
      "Processing record 43|moosomin\n",
      "Processing record 44|kudahuvadhoo\n",
      "Processing record 45|lahaina\n",
      "Processing record 46|kathmandu\n",
      "Processing record 47|eyl\n",
      "Processing record 48|margate\n",
      "Processing record 49|itacoatiara\n",
      "City not found. skipping.\n",
      "Processing record 50|lompoc\n",
      "Processing record 51|iqaluit\n",
      "Processing record 52|kaeo\n",
      "Processing record 53|kirakira\n",
      "Processing record 54|lagoa\n",
      "Processing record 55|guerrero negro\n",
      "Processing record 56|alekseyevsk\n",
      "Processing record 57|barrow\n",
      "City not found. skipping.\n",
      "Processing record 58|new norfolk\n",
      "City not found. skipping.\n",
      "Processing record 59|mar del plata\n",
      "Processing record 60|cherskiy\n",
      "Processing record 61|codrington\n",
      "City not found. skipping.\n",
      "Processing record 62|saldanha\n",
      "Processing record 63|sinnamary\n",
      "Processing record 64|marystown\n",
      "Processing record 65|torbay\n",
      "Processing record 66|bengkulu\n",
      "Processing record 67|iquique\n",
      "Processing record 68|puerto ayora\n",
      "Processing record 69|batagay-alyta\n",
      "Processing record 70|sao joao da barra\n",
      "Processing record 71|ushuaia\n",
      "Processing record 72|hermanus\n",
      "Processing record 73|kahului\n",
      "Processing record 74|jurm\n",
      "Processing record 75|doha\n",
      "Processing record 76|luderitz\n",
      "Processing record 77|bluff\n",
      "Processing record 78|castro\n",
      "Processing record 79|pangnirtung\n",
      "Processing record 80|avarua\n",
      "Processing record 81|takahata\n",
      "Processing record 82|goodyear\n",
      "Processing record 83|harvard\n",
      "Processing record 84|east london\n",
      "Processing record 85|hays\n",
      "Processing record 86|airai\n",
      "City not found. skipping.\n",
      "Processing record 87|tual\n",
      "Processing record 88|itaocara\n",
      "Processing record 89|pacifica\n",
      "Processing record 90|victoria\n",
      "Processing record 91|mehran\n",
      "City not found. skipping.\n",
      "Processing record 92|toora-khem\n",
      "Processing record 93|esperance\n",
      "Processing record 94|sakakah\n",
      "Processing record 95|vardo\n",
      "Processing record 96|sao filipe\n",
      "Processing record 97|fukue\n",
      "Processing record 98|ipixuna\n",
      "Processing record 99|soto la marina\n",
      "Processing record 100|hay river\n",
      "Processing record 101|coihaique\n",
      "Processing record 102|sembe\n",
      "Processing record 103|aden\n",
      "Processing record 104|nuevo progreso\n",
      "Processing record 105|conselheiro lafaiete\n",
      "Processing record 106|kedrovyy\n",
      "City not found. skipping.\n",
      "Processing record 107|aklavik\n",
      "City not found. skipping.\n",
      "Processing record 108|yuncheng\n",
      "City not found. skipping.\n",
      "Processing record 109|tezu\n",
      "Processing record 110|haverfordwest\n",
      "Processing record 111|vaini\n",
      "Processing record 112|thompson\n",
      "Processing record 113|saint george\n",
      "Processing record 114|adjumani\n",
      "Processing record 115|dikson\n",
      "Processing record 116|grindavik\n",
      "Processing record 117|uvinza\n",
      "Processing record 118|khatanga\n",
      "Processing record 119|abu dhabi\n",
      "Processing record 120|ostrovnoy\n",
      "Processing record 121|matagami\n",
      "Processing record 122|touros\n",
      "Processing record 123|belyy yar\n",
      "Processing record 124|lazaro cardenas\n",
      "Processing record 125|huarmey\n",
      "Processing record 126|hobart\n",
      "Processing record 127|bandarbeyla\n",
      "Processing record 128|kindu\n",
      "Processing record 129|souillac\n",
      "Processing record 130|faanui\n",
      "Processing record 131|flinders\n",
      "Processing record 132|necochea\n",
      "Processing record 133|provideniya\n",
      "Processing record 134|birao\n",
      "Processing record 135|lafayette\n",
      "Processing record 136|santa isabel do rio negro\n",
      "Processing record 137|husavik\n",
      "Processing record 138|klaksvik\n",
      "Processing record 139|vanimo\n",
      "Processing record 140|hokitika\n",
      "Processing record 141|shahr-e babak\n",
      "Processing record 142|zomba\n",
      "Processing record 143|san patricio\n",
      "Processing record 144|katsuura\n",
      "City not found. skipping.\n",
      "Processing record 145|olafsvik\n",
      "Processing record 146|luangwa\n",
      "Processing record 147|port moresby\n",
      "Processing record 148|saint-pierre\n",
      "Processing record 149|port hardy\n",
      "Processing record 150|hilo\n",
      "Processing record 151|cobija\n",
      "City not found. skipping.\n",
      "Processing record 152|lasa\n",
      "Processing record 153|maneadero\n",
      "Processing record 154|longyan\n",
      "Processing record 155|shelburne\n",
      "City not found. skipping.\n",
      "Processing record 156|anamur\n",
      "Processing record 157|yellowknife\n",
      "Processing record 158|nikolskoye\n",
      "Processing record 159|beloha\n",
      "Processing record 160|bethel\n",
      "Processing record 161|moron\n",
      "Processing record 162|ribeira grande\n",
      "Processing record 163|satipo\n",
      "Processing record 164|carnarvon\n",
      "Processing record 165|ancud\n",
      "Processing record 166|byron bay\n",
      "Processing record 167|kadiri\n",
      "Processing record 168|abay\n",
      "Processing record 169|tasiilaq\n",
      "Processing record 170|buenos aires\n",
      "Processing record 171|smithers\n",
      "Processing record 172|avera\n",
      "Processing record 173|maniitsoq\n",
      "Processing record 174|varhaug\n",
      "Processing record 175|colon\n",
      "Processing record 176|werda\n",
      "Processing record 177|kempten\n",
      "Processing record 178|maldonado\n",
      "Processing record 179|hofn\n",
      "Processing record 180|troitskoye\n",
      "Processing record 181|borogontsy\n",
      "Processing record 182|sibolga\n",
      "Processing record 183|hamilton\n",
      "Processing record 184|irtyshskiy\n",
      "Processing record 185|panjab\n",
      "City not found. skipping.\n",
      "Processing record 186|barcelona\n",
      "Processing record 187|honningsvag\n",
      "Processing record 188|luanda\n",
      "Processing record 189|riyadh\n",
      "Processing record 190|karabash\n",
      "Processing record 191|majene\n",
      "Processing record 192|hasaki\n",
      "City not found. skipping.\n",
      "Processing record 193|waipawa\n",
      "Processing record 194|killin\n",
      "City not found. skipping.\n",
      "Processing record 195|visby\n",
      "Processing record 196|ponta do sol\n",
      "Processing record 197|taunggyi\n",
      "Processing record 198|sitka\n",
      "City not found. skipping.\n",
      "Processing record 199|luena\n",
      "City not found. skipping.\n",
      "Processing record 200|starkville\n",
      "Processing record 201|port blair\n",
      "Processing record 202|ilulissat\n",
      "Processing record 203|oranjestad\n",
      "Processing record 204|lavrentiya\n",
      "Processing record 205|longyearbyen\n",
      "Processing record 206|honiara\n",
      "Processing record 207|narsaq\n",
      "Processing record 208|aksu\n",
      "Processing record 209|qaanaaq\n",
      "Processing record 210|north platte\n",
      "City not found. skipping.\n",
      "Processing record 211|zhigansk\n",
      "Processing record 212|pangkalanbuun\n",
      "Processing record 213|aksay\n",
      "Processing record 214|silopi\n",
      "Processing record 215|deputatskiy\n",
      "Processing record 216|gunjur\n",
      "Processing record 217|tuy hoa\n",
      "Processing record 218|san ignacio\n",
      "Processing record 219|turayf\n",
      "Processing record 220|gorontalo\n",
      "Processing record 221|novyy urengoy\n",
      "Processing record 222|fairbanks\n",
      "Processing record 223|tyukalinsk\n",
      "Processing record 224|channel-port aux basques\n",
      "Processing record 225|wanning\n",
      "Processing record 226|sinjar\n",
      "Processing record 227|kulhudhuffushi\n",
      "Processing record 228|barabinsk\n",
      "Processing record 229|grand-santi\n",
      "Processing record 230|lipin bor\n",
      "Processing record 231|bumba\n",
      "Processing record 232|novobiryusinskiy\n",
      "Processing record 233|talnakh\n",
      "Processing record 234|port lincoln\n",
      "Processing record 235|svetlyy\n",
      "Processing record 236|buraydah\n",
      "Processing record 237|tilichiki\n",
      "Processing record 238|san angelo\n",
      "Processing record 239|tiksi\n",
      "Processing record 240|nautla\n",
      "Processing record 241|huilong\n",
      "Processing record 242|samarai\n",
      "Processing record 243|los algarrobos\n",
      "Processing record 244|comodoro rivadavia\n",
      "Processing record 245|yerbogachen\n",
      "City not found. skipping.\n"
     ]
    },
    {
     "name": "stdout",
     "output_type": "stream",
     "text": [
      "Processing record 246|port elizabeth\n",
      "Processing record 247|krasnotorka\n",
      "Processing record 248|yozgat\n",
      "Processing record 249|cabo san lucas\n",
      "City not found. skipping.\n",
      "Processing record 250|zinder\n",
      "City not found. skipping.\n",
      "Processing record 251|praia da vitoria\n",
      "Processing record 252|kaitangata\n",
      "Processing record 253|iseyin\n",
      "Processing record 254|urumqi\n",
      "Processing record 255|qinnan\n",
      "Processing record 256|yabrud\n",
      "Processing record 257|savelugu\n",
      "Processing record 258|amuntai\n",
      "Processing record 259|mount isa\n",
      "City not found. skipping.\n",
      "Processing record 260|tautira\n",
      "Processing record 261|villaviciosa\n",
      "Processing record 262|mayumba\n",
      "Processing record 263|beringovskiy\n",
      "Processing record 264|pitimbu\n",
      "City not found. skipping.\n",
      "Processing record 265|hauterive\n",
      "Processing record 266|alibag\n",
      "Processing record 267|salalah\n",
      "Processing record 268|aksha\n",
      "Processing record 269|daur\n",
      "Processing record 270|artyom\n",
      "Processing record 271|beruwala\n",
      "Processing record 272|darovskoy\n",
      "Processing record 273|constitucion\n",
      "Processing record 274|nalgonda\n",
      "Processing record 275|bambanglipuro\n",
      "Processing record 276|arman\n",
      "Processing record 277|kotlyarevskaya\n",
      "Processing record 278|hami\n",
      "Processing record 279|taltal\n",
      "Processing record 280|altinho\n",
      "Processing record 281|morgan city\n",
      "Processing record 282|mahibadhoo\n",
      "Processing record 283|mecca\n",
      "Processing record 284|canutama\n",
      "City not found. skipping.\n",
      "Processing record 285|vostok\n",
      "Processing record 286|nome\n",
      "Processing record 287|genhe\n",
      "Processing record 288|palmer\n",
      "City not found. skipping.\n",
      "Processing record 289|fortuna\n",
      "Processing record 290|merauke\n",
      "Processing record 291|saryg-sep\n",
      "Processing record 292|ako\n",
      "Processing record 293|trairi\n",
      "Processing record 294|lodja\n",
      "Processing record 295|haines junction\n",
      "Processing record 296|tura\n",
      "Processing record 297|zhoucheng\n",
      "Processing record 298|lata\n",
      "Processing record 299|hailar\n",
      "City not found. skipping.\n",
      "Processing record 300|roma\n",
      "Processing record 301|cidreira\n",
      "Processing record 302|korla\n",
      "City not found. skipping.\n",
      "Processing record 303|karratha\n",
      "Processing record 304|twin falls\n",
      "Processing record 305|wagar\n",
      "Processing record 306|loandjili\n",
      "Processing record 307|port macquarie\n",
      "Processing record 308|henties bay\n",
      "Processing record 309|caldas novas\n",
      "City not found. skipping.\n",
      "Processing record 310|semey\n",
      "Processing record 311|mabaruma\n",
      "Processing record 312|imeni poliny osipenko\n",
      "Processing record 313|cap malheureux\n",
      "Processing record 314|hailey\n",
      "Processing record 315|waterloo\n",
      "Processing record 316|norman wells\n",
      "Processing record 317|vao\n",
      "Processing record 318|trabzon\n",
      "Processing record 319|bonfim\n",
      "Processing record 320|ahipara\n",
      "Processing record 321|arraial do cabo\n",
      "Processing record 322|burnie\n",
      "Processing record 323|isangel\n",
      "Processing record 324|pathein\n",
      "Processing record 325|salinopolis\n",
      "Processing record 326|sept-iles\n",
      "Processing record 327|kikwit\n",
      "Processing record 328|sfantu gheorghe\n",
      "Processing record 329|asau\n",
      "Processing record 330|hualmay\n",
      "Processing record 331|alta floresta\n",
      "Processing record 332|aranda de duero\n",
      "Processing record 333|black river\n",
      "City not found. skipping.\n",
      "Processing record 334|magugu\n",
      "Processing record 335|dukat\n",
      "Processing record 336|arys\n",
      "Processing record 337|buala\n",
      "Processing record 338|clinton\n",
      "Processing record 339|ust-maya\n",
      "Processing record 340|kolokani\n",
      "Processing record 341|barra do garcas\n",
      "Processing record 342|isla mujeres\n",
      "Processing record 343|kayes\n",
      "Processing record 344|nipawin\n",
      "Processing record 345|adrar\n",
      "City not found. skipping.\n",
      "Processing record 346|wewak\n",
      "Processing record 347|san cristobal\n",
      "Processing record 348|dong hoi\n",
      "Processing record 349|te anau\n",
      "Processing record 350|torrijos\n",
      "Processing record 351|ubata\n",
      "Processing record 352|mayo\n",
      "City not found. skipping.\n",
      "Processing record 353|mae hong son\n",
      "Processing record 354|belmonte\n",
      "Processing record 355|pemangkat\n",
      "Processing record 356|qasigiannguit\n",
      "Processing record 357|shingu\n",
      "Processing record 358|xuddur\n",
      "Processing record 359|libourne\n",
      "Processing record 360|catio\n",
      "Processing record 361|leningradskiy\n",
      "Processing record 362|dahod\n",
      "Processing record 363|mandurah\n",
      "Processing record 364|birobidzhan\n",
      "Processing record 365|kamiiso\n",
      "Processing record 366|harboore\n",
      "Processing record 367|bataipora\n",
      "Processing record 368|ukiah\n",
      "Processing record 369|bambous virieux\n",
      "Processing record 370|vestmannaeyjar\n",
      "Processing record 371|mandalgovi\n",
      "Processing record 372|brae\n",
      "Processing record 373|marshall\n",
      "Processing record 374|ixtapa\n",
      "Processing record 375|yatou\n",
      "Processing record 376|teguldet\n",
      "Processing record 377|latehar\n",
      "Processing record 378|geraldton\n",
      "Processing record 379|rudbar\n",
      "Processing record 380|kambove\n",
      "Processing record 381|ribeira brava\n",
      "Processing record 382|atar\n",
      "Processing record 383|udachnyy\n",
      "Processing record 384|bydgoszcz\n",
      "Processing record 385|makakilo city\n",
      "Processing record 386|kavieng\n",
      "Processing record 387|visnes\n",
      "Processing record 388|kushnarenkovo\n",
      "Processing record 389|monrovia\n",
      "City not found. skipping.\n",
      "Processing record 390|zeya\n",
      "Processing record 391|port augusta\n",
      "Processing record 392|naze\n",
      "Processing record 393|kibala\n",
      "Processing record 394|diego de almagro\n",
      "Processing record 395|chifeng\n",
      "Processing record 396|fort nelson\n",
      "Processing record 397|pringsewu\n",
      "Processing record 398|aykhal\n",
      "Processing record 399|yamada\n",
      "Processing record 400|wucheng\n",
      "Processing record 401|bela vista\n",
      "Processing record 402|faya\n",
      "Processing record 403|oranjemund\n",
      "Processing record 404|argos\n",
      "Processing record 405|san andres\n",
      "Processing record 406|czersk\n",
      "Processing record 407|vila velha\n",
      "Processing record 408|pevek\n",
      "Processing record 409|parrita\n",
      "Processing record 410|niono\n",
      "Processing record 411|sisimiut\n",
      "Processing record 412|porto torres\n",
      "Processing record 413|brainerd\n",
      "Processing record 414|batemans bay\n",
      "Processing record 415|sabha\n",
      "Processing record 416|carauari\n",
      "Processing record 417|marsh harbour\n",
      "Processing record 418|camacha\n",
      "Processing record 419|kandrian\n",
      "Processing record 420|rio grande\n",
      "Processing record 421|kruisfontein\n",
      "Processing record 422|umm lajj\n",
      "Processing record 423|agadez\n",
      "City not found. skipping.\n",
      "Processing record 424|kopavogur\n",
      "Processing record 425|mehamn\n",
      "Processing record 426|puri\n",
      "Processing record 427|goderich\n",
      "Processing record 428|kamina\n",
      "Processing record 429|nantucket\n",
      "Processing record 430|pacific grove\n",
      "Processing record 431|lucea\n",
      "Processing record 432|kuala lipis\n",
      "Processing record 433|eureka\n",
      "Processing record 434|bonthe\n",
      "Processing record 435|galle\n",
      "Processing record 436|nakonde\n",
      "Processing record 437|westport\n",
      "Processing record 438|sorland\n",
      "Processing record 439|hambantota\n",
      "Processing record 440|berlevag\n",
      "Processing record 441|indaiatuba\n",
      "Processing record 442|atbasar\n",
      "Processing record 443|togur\n",
      "Processing record 444|ulladulla\n",
      "Processing record 445|nacala\n",
      "Processing record 446|kempele\n",
      "Processing record 447|yumen\n",
      "City not found. skipping.\n",
      "Processing record 448|tabou\n",
      "Processing record 449|sechura\n",
      "Processing record 450|bathsheba\n",
      "Processing record 451|tuatapere\n",
      "Processing record 452|bayaguana\n",
      "Processing record 453|los llanos de aridane\n",
      "Processing record 454|morag\n",
      "Processing record 455|bireun\n",
      "Processing record 456|allen\n",
      "Processing record 457|la ronge\n",
      "Processing record 458|grand gaube\n",
      "Processing record 459|inverell\n",
      "Processing record 460|alyangula\n",
      "Processing record 461|chokurdakh\n",
      "Processing record 462|arenapolis\n",
      "Processing record 463|kilindoni\n",
      "Processing record 464|the valley\n",
      "Processing record 465|bilibino\n",
      "Processing record 466|mahajanga\n",
      "Processing record 467|boda\n",
      "Processing record 468|mezen\n",
      "Processing record 469|valparaiso\n",
      "Processing record 470|dunedin\n",
      "Processing record 471|marsabit\n",
      "Processing record 472|znamenskoye\n",
      "Processing record 473|umm kaddadah\n",
      "Processing record 474|emba\n",
      "Processing record 475|nelson bay\n",
      "Processing record 476|khlevnoye\n",
      "Processing record 477|marathon\n",
      "Processing record 478|kabalo\n",
      "Processing record 479|orkney\n",
      "Processing record 480|nhulunbuy\n",
      "Processing record 481|aksarayskiy\n",
      "Processing record 482|ayorou\n",
      "Processing record 483|nouadhibou\n",
      "Processing record 484|keti bandar\n",
      "Processing record 485|esil\n",
      "Processing record 486|markova\n",
      "Processing record 487|urussanga\n",
      "Processing record 488|eufaula\n",
      "Processing record 489|inirida\n",
      "Processing record 490|limulan\n",
      "Processing record 491|evensk\n",
      "Processing record 492|barstow\n",
      "Processing record 493|ouango\n",
      "City not found. skipping.\n",
      "Processing record 494|boddam\n",
      "Processing record 495|caetes\n",
      "Processing record 496|derzhavinsk\n",
      "Processing record 497|nalut\n"
     ]
    },
    {
     "name": "stdout",
     "output_type": "stream",
     "text": [
      "Processing record 498|pisco\n",
      "Processing record 499|bulawayo\n",
      "Processing record 500|lyubech\n",
      "Processing record 501|ridgecrest\n",
      "Processing record 502|barra do bugres\n",
      "Processing record 503|kemijarvi\n",
      "Processing record 504|nelson\n",
      "Processing record 505|inuvik\n",
      "Processing record 506|palau\n",
      "Processing record 507|hobyo\n",
      "Processing record 508|itarema\n",
      "Processing record 509|broome\n",
      "Processing record 510|anderson\n",
      "City not found. skipping.\n",
      "Processing record 511|xuanhua\n",
      "Processing record 512|bogale\n",
      "Processing record 513|muros\n",
      "Processing record 514|conceicao do araguaia\n",
      "Processing record 515|paraul\n",
      "Processing record 516|senador guiomard\n",
      "Processing record 517|miri\n",
      "Processing record 518|yatsuo\n",
      "Processing record 519|nanortalik\n",
      "Processing record 520|surt\n",
      "Processing record 521|richards bay\n",
      "Processing record 522|shimoda\n",
      "Processing record 523|meulaboh\n",
      "Processing record 524|san jose\n",
      "Processing record 525|lolodorf\n",
      "Processing record 526|binga\n",
      "Processing record 527|khandbari\n",
      "Processing record 528|belaya gora\n",
      "Processing record 529|ilanskiy\n",
      "Processing record 530|ketchikan\n",
      "Processing record 531|rocha\n",
      "Processing record 532|torquay\n",
      "Processing record 533|khorixas\n",
      "Processing record 534|denpasar\n",
      "City not found. skipping.\n",
      "Processing record 535|qaqortoq\n",
      "Processing record 536|salinas\n",
      "Processing record 537|mount gambier\n",
      "Processing record 538|prince rupert\n",
      "Processing record 539|vitorino freire\n",
      "Processing record 540|tateyama\n",
      "Processing record 541|shache\n",
      "Processing record 542|takoradi\n",
      "Processing record 543|lianyuan\n",
      "City not found. skipping.\n",
      "Processing record 544|gat\n",
      "City not found. skipping.\n",
      "Processing record 545|agirish\n",
      "Processing record 546|wiarton\n",
      "Processing record 547|piacabucu\n",
      "Processing record 548|wagrowiec\n",
      "Processing record 549|rybnoye\n",
      "City not found. skipping.\n",
      "Processing record 550|seoul\n",
      "City not found. skipping.\n",
      "Processing record 551|xining\n",
      "Processing record 552|charters towers\n",
      "Processing record 553|leh\n",
      "Processing record 554|rio claro\n",
      "Processing record 555|penzance\n",
      "Processing record 556|caxito\n",
      "Processing record 557|toppenish\n",
      "Processing record 558|tukrah\n",
      "City not found. skipping.\n",
      "Processing record 559|bentiu\n",
      "Processing record 560|santa luzia\n",
      "Processing record 561|komsomolskiy\n",
      "City not found. skipping.\n",
      "Processing record 562|tottori\n",
      "Processing record 563|koumac\n",
      "Processing record 564|springfield\n",
      "City not found. skipping.\n",
      "Processing record 565|gavrilov posad\n",
      "Processing record 566|timra\n",
      "Processing record 567|masumbwe\n",
      "Processing record 568|lynn haven\n",
      "Processing record 569|carutapera\n",
      "Processing record 570|araouane\n",
      "Processing record 571|okhotsk\n",
      "Processing record 572|morogoro\n",
      "Processing record 573|kenscoff\n",
      "Processing record 574|pierre\n"
     ]
    }
   ],
   "source": [
    "# Beginning statement and URL link\n",
    "print(\"Beginning Data Retrieval \")\n",
    "print(\"-----------------------------\")\n",
    "\n",
    "url = \"http://api.openweathermap.org/data/2.5/weather?units=Imperial&\"\n",
    "\n",
    "# Define empty lists to store values\n",
    "cloudiness = []\n",
    "country = []\n",
    "date = []\n",
    "max_temp = []\n",
    "humidity = []\n",
    "lat = []\n",
    "lng = []\n",
    "wind_speed = []\n",
    "city_name = []\n",
    "\n",
    "# Looping through cities to make api calls using city as query\n",
    "i = 1\n",
    "for city in cities:\n",
    "    city=city\n",
    "    query_url = url + \"appid=\" + weather_api_key + \"&q=\" + city\n",
    "    response = requests.get(query_url).json()\n",
    "    \n",
    "# Extracting data. Missing data is handled by try and except  \n",
    "    try:\n",
    "        \n",
    "        cloudiness.append(response[\"clouds\"][\"all\"])\n",
    "        country.append(response[\"sys\"][\"country\"])\n",
    "        date.append(response[\"dt\"])\n",
    "        max_temp.append(response[\"main\"]['temp_max'])\n",
    "        humidity.append(response[\"main\"]['humidity'])\n",
    "        lat.append(response[\"coord\"][\"lat\"])  \n",
    "        lng.append(response[\"coord\"][\"lon\"])\n",
    "        wind_speed.append(response[\"wind\"][\"speed\"])\n",
    "        city_name.append(response[\"name\"])\n",
    "        print(f\"Processing record {i}|{city}\")\n",
    "        i+=1\n",
    "    except (KeyError):\n",
    "        print(\"City not found. skipping.\")"
   ]
  },
  {
   "cell_type": "markdown",
   "metadata": {},
   "source": [
    "### Convert Raw Data to DataFrame\n",
    "* Export the city data into a .csv.\n",
    "* Display the DataFrame"
   ]
  },
  {
   "cell_type": "code",
   "execution_count": 133,
   "metadata": {},
   "outputs": [
    {
     "data": {
      "text/html": [
       "<div>\n",
       "<style scoped>\n",
       "    .dataframe tbody tr th:only-of-type {\n",
       "        vertical-align: middle;\n",
       "    }\n",
       "\n",
       "    .dataframe tbody tr th {\n",
       "        vertical-align: top;\n",
       "    }\n",
       "\n",
       "    .dataframe thead th {\n",
       "        text-align: right;\n",
       "    }\n",
       "</style>\n",
       "<table border=\"1\" class=\"dataframe\">\n",
       "  <thead>\n",
       "    <tr style=\"text-align: right;\">\n",
       "      <th></th>\n",
       "      <th>City</th>\n",
       "      <th>Cloudiness</th>\n",
       "      <th>Country</th>\n",
       "      <th>Date</th>\n",
       "      <th>Humidity</th>\n",
       "      <th>Lat</th>\n",
       "      <th>Lng</th>\n",
       "      <th>Max Temp</th>\n",
       "      <th>Wind Speed</th>\n",
       "    </tr>\n",
       "    <tr>\n",
       "      <th>City ID</th>\n",
       "      <th></th>\n",
       "      <th></th>\n",
       "      <th></th>\n",
       "      <th></th>\n",
       "      <th></th>\n",
       "      <th></th>\n",
       "      <th></th>\n",
       "      <th></th>\n",
       "      <th></th>\n",
       "    </tr>\n",
       "  </thead>\n",
       "  <tbody>\n",
       "    <tr>\n",
       "      <th>0</th>\n",
       "      <td>Mossamedes</td>\n",
       "      <td>100</td>\n",
       "      <td>AO</td>\n",
       "      <td>1611461997</td>\n",
       "      <td>70</td>\n",
       "      <td>-15.1961</td>\n",
       "      <td>12.1522</td>\n",
       "      <td>75.02</td>\n",
       "      <td>5.23</td>\n",
       "    </tr>\n",
       "    <tr>\n",
       "      <th>1</th>\n",
       "      <td>Ishigaki</td>\n",
       "      <td>75</td>\n",
       "      <td>JP</td>\n",
       "      <td>1611462200</td>\n",
       "      <td>68</td>\n",
       "      <td>24.3448</td>\n",
       "      <td>124.1572</td>\n",
       "      <td>66.20</td>\n",
       "      <td>18.41</td>\n",
       "    </tr>\n",
       "    <tr>\n",
       "      <th>2</th>\n",
       "      <td>Lorengau</td>\n",
       "      <td>81</td>\n",
       "      <td>PG</td>\n",
       "      <td>1611462200</td>\n",
       "      <td>62</td>\n",
       "      <td>-2.0226</td>\n",
       "      <td>147.2712</td>\n",
       "      <td>85.55</td>\n",
       "      <td>3.02</td>\n",
       "    </tr>\n",
       "    <tr>\n",
       "      <th>3</th>\n",
       "      <td>Rikitea</td>\n",
       "      <td>0</td>\n",
       "      <td>PF</td>\n",
       "      <td>1611462200</td>\n",
       "      <td>65</td>\n",
       "      <td>-23.1203</td>\n",
       "      <td>-134.9692</td>\n",
       "      <td>79.54</td>\n",
       "      <td>7.52</td>\n",
       "    </tr>\n",
       "    <tr>\n",
       "      <th>4</th>\n",
       "      <td>Svetlyy Yar</td>\n",
       "      <td>0</td>\n",
       "      <td>RU</td>\n",
       "      <td>1611462200</td>\n",
       "      <td>93</td>\n",
       "      <td>48.4748</td>\n",
       "      <td>44.7810</td>\n",
       "      <td>33.01</td>\n",
       "      <td>8.95</td>\n",
       "    </tr>\n",
       "  </tbody>\n",
       "</table>\n",
       "</div>"
      ],
      "text/plain": [
       "                City  Cloudiness Country        Date  Humidity      Lat  \\\n",
       "City ID                                                                   \n",
       "0         Mossamedes         100      AO  1611461997        70 -15.1961   \n",
       "1           Ishigaki          75      JP  1611462200        68  24.3448   \n",
       "2           Lorengau          81      PG  1611462200        62  -2.0226   \n",
       "3            Rikitea           0      PF  1611462200        65 -23.1203   \n",
       "4        Svetlyy Yar           0      RU  1611462200        93  48.4748   \n",
       "\n",
       "              Lng  Max Temp  Wind Speed  \n",
       "City ID                                  \n",
       "0         12.1522     75.02        5.23  \n",
       "1        124.1572     66.20       18.41  \n",
       "2        147.2712     85.55        3.02  \n",
       "3       -134.9692     79.54        7.52  \n",
       "4         44.7810     33.01        8.95  "
      ]
     },
     "execution_count": 133,
     "metadata": {},
     "output_type": "execute_result"
    }
   ],
   "source": [
    "# Creating city dataframe\n",
    "city_df = pd.DataFrame({\"City\":city_name, \n",
    "                        \"Cloudiness\":cloudiness, \n",
    "                        \"Country\":country, \n",
    "                        \"Date\":date, \n",
    "                        \"Humidity\":humidity,\n",
    "                        \"Lat\":lat,\n",
    "                        \"Lng\":lng,\n",
    "                        \"Max Temp\":max_temp,\n",
    "                        \"Wind Speed\":wind_speed\n",
    "                                         })\n",
    "city_df = city_df.rename_axis('City ID')\n",
    "\n",
    "# Exporting data to csv\n",
    "city_df.to_csv(\"../output_data/cities.csv\")\n",
    "\n",
    "# Displaying dataframe\n",
    "city_df.head()"
   ]
  },
  {
   "cell_type": "code",
   "execution_count": 134,
   "metadata": {},
   "outputs": [
    {
     "data": {
      "text/plain": [
       "City          574\n",
       "Cloudiness    574\n",
       "Country       574\n",
       "Date          574\n",
       "Humidity      574\n",
       "Lat           574\n",
       "Lng           574\n",
       "Max Temp      574\n",
       "Wind Speed    574\n",
       "dtype: int64"
      ]
     },
     "execution_count": 134,
     "metadata": {},
     "output_type": "execute_result"
    }
   ],
   "source": [
    "# Count data\n",
    "city_df.count()"
   ]
  },
  {
   "cell_type": "code",
   "execution_count": 135,
   "metadata": {},
   "outputs": [
    {
     "data": {
      "text/html": [
       "<div>\n",
       "<style scoped>\n",
       "    .dataframe tbody tr th:only-of-type {\n",
       "        vertical-align: middle;\n",
       "    }\n",
       "\n",
       "    .dataframe tbody tr th {\n",
       "        vertical-align: top;\n",
       "    }\n",
       "\n",
       "    .dataframe thead th {\n",
       "        text-align: right;\n",
       "    }\n",
       "</style>\n",
       "<table border=\"1\" class=\"dataframe\">\n",
       "  <thead>\n",
       "    <tr style=\"text-align: right;\">\n",
       "      <th></th>\n",
       "      <th>City</th>\n",
       "      <th>Cloudiness</th>\n",
       "      <th>Country</th>\n",
       "      <th>Date</th>\n",
       "      <th>Humidity</th>\n",
       "      <th>Lat</th>\n",
       "      <th>Lng</th>\n",
       "      <th>Max Temp</th>\n",
       "      <th>Wind Speed</th>\n",
       "    </tr>\n",
       "    <tr>\n",
       "      <th>City ID</th>\n",
       "      <th></th>\n",
       "      <th></th>\n",
       "      <th></th>\n",
       "      <th></th>\n",
       "      <th></th>\n",
       "      <th></th>\n",
       "      <th></th>\n",
       "      <th></th>\n",
       "      <th></th>\n",
       "    </tr>\n",
       "  </thead>\n",
       "  <tbody>\n",
       "    <tr>\n",
       "      <th>0</th>\n",
       "      <td>Mossamedes</td>\n",
       "      <td>100</td>\n",
       "      <td>AO</td>\n",
       "      <td>1611461997</td>\n",
       "      <td>70</td>\n",
       "      <td>-15.1961</td>\n",
       "      <td>12.1522</td>\n",
       "      <td>75.02</td>\n",
       "      <td>5.23</td>\n",
       "    </tr>\n",
       "    <tr>\n",
       "      <th>1</th>\n",
       "      <td>Ishigaki</td>\n",
       "      <td>75</td>\n",
       "      <td>JP</td>\n",
       "      <td>1611462200</td>\n",
       "      <td>68</td>\n",
       "      <td>24.3448</td>\n",
       "      <td>124.1572</td>\n",
       "      <td>66.20</td>\n",
       "      <td>18.41</td>\n",
       "    </tr>\n",
       "    <tr>\n",
       "      <th>2</th>\n",
       "      <td>Lorengau</td>\n",
       "      <td>81</td>\n",
       "      <td>PG</td>\n",
       "      <td>1611462200</td>\n",
       "      <td>62</td>\n",
       "      <td>-2.0226</td>\n",
       "      <td>147.2712</td>\n",
       "      <td>85.55</td>\n",
       "      <td>3.02</td>\n",
       "    </tr>\n",
       "    <tr>\n",
       "      <th>3</th>\n",
       "      <td>Rikitea</td>\n",
       "      <td>0</td>\n",
       "      <td>PF</td>\n",
       "      <td>1611462200</td>\n",
       "      <td>65</td>\n",
       "      <td>-23.1203</td>\n",
       "      <td>-134.9692</td>\n",
       "      <td>79.54</td>\n",
       "      <td>7.52</td>\n",
       "    </tr>\n",
       "    <tr>\n",
       "      <th>4</th>\n",
       "      <td>Svetlyy Yar</td>\n",
       "      <td>0</td>\n",
       "      <td>RU</td>\n",
       "      <td>1611462200</td>\n",
       "      <td>93</td>\n",
       "      <td>48.4748</td>\n",
       "      <td>44.7810</td>\n",
       "      <td>33.01</td>\n",
       "      <td>8.95</td>\n",
       "    </tr>\n",
       "    <tr>\n",
       "      <th>...</th>\n",
       "      <td>...</td>\n",
       "      <td>...</td>\n",
       "      <td>...</td>\n",
       "      <td>...</td>\n",
       "      <td>...</td>\n",
       "      <td>...</td>\n",
       "      <td>...</td>\n",
       "      <td>...</td>\n",
       "      <td>...</td>\n",
       "    </tr>\n",
       "    <tr>\n",
       "      <th>569</th>\n",
       "      <td>Araouane</td>\n",
       "      <td>41</td>\n",
       "      <td>ML</td>\n",
       "      <td>1611462042</td>\n",
       "      <td>23</td>\n",
       "      <td>18.9048</td>\n",
       "      <td>-3.5265</td>\n",
       "      <td>60.42</td>\n",
       "      <td>10.56</td>\n",
       "    </tr>\n",
       "    <tr>\n",
       "      <th>570</th>\n",
       "      <td>Okhotsk</td>\n",
       "      <td>100</td>\n",
       "      <td>RU</td>\n",
       "      <td>1611462245</td>\n",
       "      <td>81</td>\n",
       "      <td>59.3833</td>\n",
       "      <td>143.3000</td>\n",
       "      <td>-10.77</td>\n",
       "      <td>10.69</td>\n",
       "    </tr>\n",
       "    <tr>\n",
       "      <th>571</th>\n",
       "      <td>Morogoro</td>\n",
       "      <td>75</td>\n",
       "      <td>TZ</td>\n",
       "      <td>1611462245</td>\n",
       "      <td>94</td>\n",
       "      <td>-6.8167</td>\n",
       "      <td>37.6667</td>\n",
       "      <td>71.60</td>\n",
       "      <td>5.75</td>\n",
       "    </tr>\n",
       "    <tr>\n",
       "      <th>572</th>\n",
       "      <td>Kenscoff</td>\n",
       "      <td>40</td>\n",
       "      <td>HT</td>\n",
       "      <td>1611462245</td>\n",
       "      <td>88</td>\n",
       "      <td>18.4506</td>\n",
       "      <td>-72.2869</td>\n",
       "      <td>77.00</td>\n",
       "      <td>3.44</td>\n",
       "    </tr>\n",
       "    <tr>\n",
       "      <th>573</th>\n",
       "      <td>Pierre</td>\n",
       "      <td>1</td>\n",
       "      <td>US</td>\n",
       "      <td>1611462245</td>\n",
       "      <td>93</td>\n",
       "      <td>44.3683</td>\n",
       "      <td>-100.3510</td>\n",
       "      <td>21.00</td>\n",
       "      <td>8.05</td>\n",
       "    </tr>\n",
       "  </tbody>\n",
       "</table>\n",
       "<p>574 rows × 9 columns</p>\n",
       "</div>"
      ],
      "text/plain": [
       "                City  Cloudiness Country        Date  Humidity      Lat  \\\n",
       "City ID                                                                   \n",
       "0         Mossamedes         100      AO  1611461997        70 -15.1961   \n",
       "1           Ishigaki          75      JP  1611462200        68  24.3448   \n",
       "2           Lorengau          81      PG  1611462200        62  -2.0226   \n",
       "3            Rikitea           0      PF  1611462200        65 -23.1203   \n",
       "4        Svetlyy Yar           0      RU  1611462200        93  48.4748   \n",
       "...              ...         ...     ...         ...       ...      ...   \n",
       "569         Araouane          41      ML  1611462042        23  18.9048   \n",
       "570          Okhotsk         100      RU  1611462245        81  59.3833   \n",
       "571         Morogoro          75      TZ  1611462245        94  -6.8167   \n",
       "572         Kenscoff          40      HT  1611462245        88  18.4506   \n",
       "573           Pierre           1      US  1611462245        93  44.3683   \n",
       "\n",
       "              Lng  Max Temp  Wind Speed  \n",
       "City ID                                  \n",
       "0         12.1522     75.02        5.23  \n",
       "1        124.1572     66.20       18.41  \n",
       "2        147.2712     85.55        3.02  \n",
       "3       -134.9692     79.54        7.52  \n",
       "4         44.7810     33.01        8.95  \n",
       "...           ...       ...         ...  \n",
       "569       -3.5265     60.42       10.56  \n",
       "570      143.3000    -10.77       10.69  \n",
       "571       37.6667     71.60        5.75  \n",
       "572      -72.2869     77.00        3.44  \n",
       "573     -100.3510     21.00        8.05  \n",
       "\n",
       "[574 rows x 9 columns]"
      ]
     },
     "execution_count": 135,
     "metadata": {},
     "output_type": "execute_result"
    }
   ],
   "source": [
    "# Display the data frame\n",
    "city_df"
   ]
  },
  {
   "cell_type": "markdown",
   "metadata": {},
   "source": [
    "## Plotting the Data\n",
    "* Use proper labeling of the plots using plot titles (including date of analysis) and axes labels.\n",
    "* Save the plotted figures as .pngs."
   ]
  },
  {
   "cell_type": "markdown",
   "metadata": {},
   "source": [
    "## Latitude vs. Temperature Plot"
   ]
  },
  {
   "cell_type": "code",
   "execution_count": 139,
   "metadata": {
    "scrolled": true
   },
   "outputs": [
    {
     "data": {
      "image/png": "[encoded data removed]",
      "text/plain": [
       "<Figure size 432x288 with 1 Axes>"
      ]
     },
     "metadata": {
      "needs_background": "light"
     },
     "output_type": "display_data"
    }
   ],
   "source": [
    "# Create Latitude vs. Temperature Plot scatter plot\n",
    "plt.scatter(city_df[\"Lat\"], city_df[\"Max Temp\"], facecolor = \"steelblue\", edgecolor = \"black\")\n",
    "\n",
    "# Set title\n",
    "plt.title(\"City Latitude vs. Max Temperature\")\n",
    "\n",
    "# Set x axis label\n",
    "plt.xlabel(\"Laitude\")\n",
    "\n",
    "# Set y axis label\n",
    "plt.ylabel(\"Max Temperature (F)\")\n",
    "\n",
    "# Set grid line\n",
    "plt.grid(linestyle='-', linewidth=1, alpha = 0.5)\n",
    "\n",
    "# Save image\n",
    "plt.savefig(\"../output_data/Latitude_vs_temperature_plot\")"
   ]
  },
  {
   "cell_type": "markdown",
   "metadata": {},
   "source": [
    "## Latitude vs. Humidity Plot"
   ]
  },
  {
   "cell_type": "code",
   "execution_count": 140,
   "metadata": {},
   "outputs": [
    {
     "data": {
      "image/png": "[encoded data removed]",
      "text/plain": [
       "<Figure size 432x288 with 1 Axes>"
      ]
     },
     "metadata": {
      "needs_background": "light"
     },
     "output_type": "display_data"
    }
   ],
   "source": [
    "# Create Latitude vs. Humidity Plot scatter plot\n",
    "plt.scatter(city_df[\"Lat\"], city_df[\"Humidity\"], facecolor = \"steelblue\", edgecolor = \"black\")\n",
    "\n",
    "# Set title\n",
    "plt.title(\"City Latitude vs. Humidity\")\n",
    "\n",
    "# Set x axis label\n",
    "plt.xlabel(\"Laitude\")\n",
    "\n",
    "# Set y axis label\n",
    "plt.ylabel(\"Humidity (%)\")\n",
    "\n",
    "# Set grid line\n",
    "plt.grid(linestyle='-', linewidth=1, alpha = 0.5)\n",
    "\n",
    "# Save image\n",
    "plt.savefig(\"../output_data/Latitude_vs_humidity_plot\")"
   ]
  },
  {
   "cell_type": "markdown",
   "metadata": {},
   "source": [
    "## Latitude vs. Cloudiness Plot"
   ]
  },
  {
   "cell_type": "code",
   "execution_count": 141,
   "metadata": {},
   "outputs": [
    {
     "data": {
      "image/png": "[encoded data removed]",
      "text/plain": [
       "<Figure size 432x288 with 1 Axes>"
      ]
     },
     "metadata": {
      "needs_background": "light"
     },
     "output_type": "display_data"
    }
   ],
   "source": [
    "# Create Latitude vs. Cloudiness Plot scatter plot\n",
    "plt.scatter(city_df[\"Lat\"], city_df[\"Cloudiness\"], facecolor = \"steelblue\", edgecolor = \"black\")\n",
    "\n",
    "# Set title\n",
    "plt.title(\"City Latitude vs. Cloudiness\")\n",
    "\n",
    "# Set x axis label\n",
    "plt.xlabel(\"Laitude\")\n",
    "\n",
    "# Set y axis label\n",
    "plt.ylabel(\"Cloudiness (%)\")\n",
    "\n",
    "# Set y axis limit\n",
    "plt.ylim(-5,105)\n",
    "\n",
    "# Set grid line\n",
    "plt.grid(linestyle='-', linewidth=1, alpha = 0.5)\n",
    "\n",
    "# Save image\n",
    "plt.savefig(\"../output_data/Latitude_vs_cloudiness_plot\")"
   ]
  },
  {
   "cell_type": "markdown",
   "metadata": {},
   "source": [
    "## Latitude vs. Wind Speed Plot"
   ]
  },
  {
   "cell_type": "code",
   "execution_count": 159,
   "metadata": {},
   "outputs": [
    {
     "data": {
      "image/png": "[encoded data removed]",
      "text/plain": [
       "<Figure size 432x288 with 1 Axes>"
      ]
     },
     "metadata": {
      "needs_background": "light"
     },
     "output_type": "display_data"
    }
   ],
   "source": [
    "# Create Latitude vs. Wind Speed scatter plot\n",
    "plt.scatter(city_df[\"Lat\"], city_df[\"Wind Speed\"], facecolor = \"steelblue\", edgecolor = \"black\")\n",
    "plt.title(\"City Latitude vs. Wind Speed\")\n",
    "\n",
    "# Set x axis label\n",
    "plt.xlabel(\"Latitude\")\n",
    "\n",
    "# Set y axis label\n",
    "plt.ylabel(\"Wind Speed (%)\")\n",
    "\n",
    "# Set y axis limit\n",
    "plt.ylim(-2,50)\n",
    "\n",
    "# Set grid line\n",
    "plt.grid(linestyle='-', linewidth=1, alpha = 0.5)\n",
    "\n",
    "# Save image\n",
    "plt.savefig(\"../output_data/Latitude_vs_windspeed_plot\")"
   ]
  },
  {
   "cell_type": "markdown",
   "metadata": {},
   "source": [
    "## Linear Regression"
   ]
  },
  {
   "cell_type": "code",
   "execution_count": 143,
   "metadata": {},
   "outputs": [],
   "source": [
    "# Create Northern and Southern Hemisphere DataFrames\n",
    "Northern_hemisphere = city_df.loc[city_df[\"Lat\"]>0]\n",
    "Southern_hemisphere = city_df.loc[city_df[\"Lat\"]<0]"
   ]
  },
  {
   "cell_type": "code",
   "execution_count": 144,
   "metadata": {},
   "outputs": [],
   "source": [
    "# Define function for creating linear agression and scatter plot\n",
    "def linear_reg_plot(x_values,y_values):\n",
    "    (slope, intercept, rvalue, pvalue, stderr) = linregress(x_values, y_values)\n",
    "    regress_values = x_values * slope + intercept\n",
    "    line_eq = \"y = \" + str(round(slope,2)) + \"x + \" + str(round(intercept,2))\n",
    "    plt.scatter(x_values,y_values)\n",
    "    plt.plot(x_values,regress_values,\"r-\")\n",
    "    plt.annotate(line_eq,(x_values.median(),y_values.median()),fontsize=15,color=\"red\")\n",
    "    plt.xlabel(\"Latitude\")\n",
    "    print(f\"The r-squared is: {rvalue}\")\n",
    "    plt.show()"
   ]
  },
  {
   "cell_type": "markdown",
   "metadata": {},
   "source": [
    "####  Northern Hemisphere - Max Temp vs. Latitude Linear Regression"
   ]
  },
  {
   "cell_type": "code",
   "execution_count": 147,
   "metadata": {},
   "outputs": [
    {
     "name": "stdout",
     "output_type": "stream",
     "text": [
      "The r-squared is: -0.8488347627539207\n"
     ]
    },
    {
     "data": {
      "image/png": "[encoded data removed]",
      "text/plain": [
       "<Figure size 432x288 with 1 Axes>"
      ]
     },
     "metadata": {
      "needs_background": "light"
     },
     "output_type": "display_data"
    },
    {
     "name": "stdout",
     "output_type": "stream",
     "text": [
      "None\n"
     ]
    },
    {
     "data": {
      "text/plain": [
       "<Figure size 432x288 with 0 Axes>"
      ]
     },
     "metadata": {},
     "output_type": "display_data"
    }
   ],
   "source": [
    "# Plot\n",
    "x_values = Northern_hemisphere[\"Lat\"]\n",
    "y_values = Northern_hemisphere[\"Max Temp\"]\n",
    "plt.ylabel(\"Max Temp (F)\")\n",
    "plt.xlabel(\"Latitude\")\n",
    "print(linear_reg_plot(x_values,y_values))"
   ]
  },
  {
   "cell_type": "markdown",
   "metadata": {},
   "source": [
    "####  Southern Hemisphere - Max Temp vs. Latitude Linear Regression"
   ]
  },
  {
   "cell_type": "code",
   "execution_count": 148,
   "metadata": {},
   "outputs": [
    {
     "name": "stdout",
     "output_type": "stream",
     "text": [
      "The r-squared is: 0.24306059793972887\n"
     ]
    },
    {
     "data": {
      "image/png": "[encoded data removed]",
      "text/plain": [
       "<Figure size 432x288 with 1 Axes>"
      ]
     },
     "metadata": {
      "needs_background": "light"
     },
     "output_type": "display_data"
    },
    {
     "name": "stdout",
     "output_type": "stream",
     "text": [
      "None\n"
     ]
    },
    {
     "data": {
      "text/plain": [
       "<Figure size 432x288 with 0 Axes>"
      ]
     },
     "metadata": {},
     "output_type": "display_data"
    }
   ],
   "source": [
    "# Plot\n",
    "x_values = Southern_hemisphere[\"Lat\"]\n",
    "y_values = Southern_hemisphere[\"Max Temp\"]\n",
    "plt.ylabel(\"Max Temp (F)\")\n",
    "plt.xlabel(\"Latitude\")\n",
    "print(linear_reg_plot(x_values,y_values))"
   ]
  },
  {
   "cell_type": "markdown",
   "metadata": {},
   "source": [
    "####  Northern Hemisphere - Humidity (%) vs. Latitude Linear Regression"
   ]
  },
  {
   "cell_type": "code",
   "execution_count": 149,
   "metadata": {},
   "outputs": [
    {
     "name": "stdout",
     "output_type": "stream",
     "text": [
      "The r-squared is: 0.34926295172465777\n"
     ]
    },
    {
     "data": {
      "image/png": "[encoded data removed]",
      "text/plain": [
       "<Figure size 432x288 with 1 Axes>"
      ]
     },
     "metadata": {
      "needs_background": "light"
     },
     "output_type": "display_data"
    },
    {
     "name": "stdout",
     "output_type": "stream",
     "text": [
      "None\n"
     ]
    },
    {
     "data": {
      "text/plain": [
       "<Figure size 432x288 with 0 Axes>"
      ]
     },
     "metadata": {},
     "output_type": "display_data"
    }
   ],
   "source": [
    "# Plot\n",
    "x_values = Northern_hemisphere[\"Lat\"]\n",
    "y_values = Northern_hemisphere[\"Humidity\"]\n",
    "plt.ylabel(\"Humidity (%)\")\n",
    "plt.xlabel(\"Latitude\")\n",
    "print(linear_reg_plot(x_values,y_values))"
   ]
  },
  {
   "cell_type": "markdown",
   "metadata": {},
   "source": [
    "####  Southern Hemisphere - Humidity (%) vs. Latitude Linear Regression"
   ]
  },
  {
   "cell_type": "code",
   "execution_count": 150,
   "metadata": {},
   "outputs": [
    {
     "name": "stdout",
     "output_type": "stream",
     "text": [
      "The r-squared is: 0.37568756025271627\n"
     ]
    },
    {
     "data": {
      "image/png": "[encoded data removed]",
      "text/plain": [
       "<Figure size 432x288 with 1 Axes>"
      ]
     },
     "metadata": {
      "needs_background": "light"
     },
     "output_type": "display_data"
    },
    {
     "name": "stdout",
     "output_type": "stream",
     "text": [
      "None\n"
     ]
    },
    {
     "data": {
      "text/plain": [
       "<Figure size 432x288 with 0 Axes>"
      ]
     },
     "metadata": {},
     "output_type": "display_data"
    }
   ],
   "source": [
    "# Plot\n",
    "x_values = Southern_hemisphere[\"Lat\"]\n",
    "y_values = Southern_hemisphere[\"Humidity\"]\n",
    "plt.ylim(0, y_values.max()+100)\n",
    "plt.ylabel(\"Humidity (%)\")\n",
    "print(linear_reg_plot(x_values,y_values))"
   ]
  },
  {
   "cell_type": "markdown",
   "metadata": {},
   "source": [
    "####  Northern Hemisphere - Cloudiness (%) vs. Latitude Linear Regression"
   ]
  },
  {
   "cell_type": "code",
   "execution_count": 151,
   "metadata": {},
   "outputs": [
    {
     "name": "stdout",
     "output_type": "stream",
     "text": [
      "The r-squared is: 0.20016864969535073\n"
     ]
    },
    {
     "data": {
      "image/png": "[encoded data removed]",
      "text/plain": [
       "<Figure size 432x288 with 1 Axes>"
      ]
     },
     "metadata": {
      "needs_background": "light"
     },
     "output_type": "display_data"
    },
    {
     "name": "stdout",
     "output_type": "stream",
     "text": [
      "None\n"
     ]
    },
    {
     "data": {
      "text/plain": [
       "<Figure size 432x288 with 0 Axes>"
      ]
     },
     "metadata": {},
     "output_type": "display_data"
    }
   ],
   "source": [
    "# Plot\n",
    "x_values = Northern_hemisphere[\"Lat\"]\n",
    "y_values = Northern_hemisphere[\"Cloudiness\"]\n",
    "plt.ylabel(\"Cloudiness\")\n",
    "print(linear_reg_plot(x_values,y_values))"
   ]
  },
  {
   "cell_type": "markdown",
   "metadata": {},
   "source": [
    "####  Southern Hemisphere - Cloudiness (%) vs. Latitude Linear Regression"
   ]
  },
  {
   "cell_type": "code",
   "execution_count": 152,
   "metadata": {},
   "outputs": [
    {
     "name": "stdout",
     "output_type": "stream",
     "text": [
      "The r-squared is: 0.2884440651901529\n"
     ]
    },
    {
     "data": {
      "image/png": "[encoded data removed]",
      "text/plain": [
       "<Figure size 432x288 with 1 Axes>"
      ]
     },
     "metadata": {
      "needs_background": "light"
     },
     "output_type": "display_data"
    },
    {
     "name": "stdout",
     "output_type": "stream",
     "text": [
      "None\n"
     ]
    },
    {
     "data": {
      "text/plain": [
       "<Figure size 432x288 with 0 Axes>"
      ]
     },
     "metadata": {},
     "output_type": "display_data"
    }
   ],
   "source": [
    "# Plot\n",
    "x_values = Southern_hemisphere[\"Lat\"]\n",
    "y_values = Southern_hemisphere[\"Cloudiness\"]\n",
    "plt.ylabel(\"Cloudiness\")\n",
    "print(linear_reg_plot(x_values,y_values))"
   ]
  },
  {
   "cell_type": "markdown",
   "metadata": {},
   "source": [
    "####  Northern Hemisphere - Wind Speed (mph) vs. Latitude Linear Regression"
   ]
  },
  {
   "cell_type": "code",
   "execution_count": 157,
   "metadata": {},
   "outputs": [
    {
     "name": "stdout",
     "output_type": "stream",
     "text": [
      "The r-squared is: 0.11345044332151107\n"
     ]
    },
    {
     "data": {
      "image/png": "[encoded data removed]",
      "text/plain": [
       "<Figure size 432x288 with 1 Axes>"
      ]
     },
     "metadata": {
      "needs_background": "light"
     },
     "output_type": "display_data"
    },
    {
     "name": "stdout",
     "output_type": "stream",
     "text": [
      "None\n"
     ]
    },
    {
     "data": {
      "text/plain": [
       "<Figure size 432x288 with 0 Axes>"
      ]
     },
     "metadata": {},
     "output_type": "display_data"
    }
   ],
   "source": [
    "# Plot\n",
    "x_values = Northern_hemisphere[\"Lat\"]\n",
    "y_values = Northern_hemisphere[\"Wind Speed\"]\n",
    "plt.ylabel(\"Wind Speed MPH\")\n",
    "print(linear_reg_plot(x_values,y_values))"
   ]
  },
  {
   "cell_type": "markdown",
   "metadata": {},
   "source": [
    "####  Southern Hemisphere - Wind Speed (mph) vs. Latitude Linear Regression"
   ]
  },
  {
   "cell_type": "code",
   "execution_count": 158,
   "metadata": {},
   "outputs": [
    {
     "name": "stdout",
     "output_type": "stream",
     "text": [
      "The r-squared is: -0.46481013796491694\n"
     ]
    },
    {
     "data": {
      "image/png": "[encoded data removed]",
      "text/plain": [
       "<Figure size 432x288 with 1 Axes>"
      ]
     },
     "metadata": {
      "needs_background": "light"
     },
     "output_type": "display_data"
    },
    {
     "name": "stdout",
     "output_type": "stream",
     "text": [
      "None\n"
     ]
    },
    {
     "data": {
      "text/plain": [
       "<Figure size 432x288 with 0 Axes>"
      ]
     },
     "metadata": {},
     "output_type": "display_data"
    }
   ],
   "source": [
    "# Plot\n",
    "x_values = Southern_hemisphere[\"Lat\"]\n",
    "y_values = Southern_hemisphere[\"Wind Speed\"]\n",
    "plt.ylabel(\"Wind Speed MPH\")\n",
    "print(linear_reg_plot(x_values,y_values))"
   ]
  },
  {
   "cell_type": "code",
   "execution_count": null,
   "metadata": {},
   "outputs": [],
   "source": []
  }
 ],
 "metadata": {
  "anaconda-cloud": {},
  "kernel_info": {
   "name": "python3"
  },
  "kernelspec": {
   "display_name": "Python 3",
   "language": "python",
   "name": "python3"
  },
  "language_info": {
   "codemirror_mode": {
    "name": "ipython",
    "version": 3
   },
   "file_extension": ".py",
   "mimetype": "text/x-python",
   "name": "python",
   "nbconvert_exporter": "python",
   "pygments_lexer": "ipython3",
   "version": "3.8.3"
  },
  "latex_envs": {
   "LaTeX_envs_menu_present": true,
   "autoclose": false,
   "autocomplete": true,
   "bibliofile": "biblio.bib",
   "cite_by": "apalike",
   "current_citInitial": 1,
   "eqLabelWithNumbers": true,
   "eqNumInitial": 1,
   "hotkeys": {
    "equation": "Ctrl-E",
    "itemize": "Ctrl-I"
   },
   "labels_anchors": false,
   "latex_user_defs": false,
   "report_style_numbering": false,
   "user_envs_cfg": false
  },
  "nteract": {
   "version": "0.12.3"
  }
 },
 "nbformat": 4,
 "nbformat_minor": 2
}
